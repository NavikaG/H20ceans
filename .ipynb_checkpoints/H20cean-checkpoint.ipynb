{
 "cells": [
  {
   "cell_type": "markdown",
   "metadata": {},
   "source": [
    "# H20ceans: Data Analysis and Machine Learning\n",
    "### Using Google's AutoML API to track and predict keynote species.\n",
    "\n",
    "#### Project Description:\n",
    "Our project utilizes the Pandas Python library for dataset analysis and Google AutoML Cloud API for creating a machine learning model. The project is to be a website that allows for user-friendly analysis of data provided by the Multi-Agency Rocky Intertidal Network (MARINe). In addition, we implemented a machine learning algorithm using AutoML by Google to make predictions about the populations of an indicator species from inputs describing the conditions for the input data.\n",
    "\n",
    "The main objective of this project was to gain familiarity with commonly used libraries and practices for the discipline we are all passionate about pursuing in the future. This was our entire groups introduction to GitHub collaboration, Pandas Python library, Matplotlib Python library, collecting and citing data from trusted sources, implementing an API, and participating in a Hackathon project."
   ]
  },
  {
   "cell_type": "markdown",
   "metadata": {},
   "source": [
    "#### Data Source:\n",
    "This study utilized data collected by the Multi-Agency Rocky Intertidal Network (MARINe): a long-term ecological consortium funded and supported by many groups. Please visit pacificrockyintertidal.org for a complete list of the MARINe partners responsible for monitoring and funding these data. Data management has been primarily supported by BOEM (Bureau of Ocean Energy Management), NPS (National Parks Service), The David & Lucile Packard Foundation, and United States Navy.\n",
    "\n",
    "marine.ucsc.edu (2019). Temperature Data | MARINe. [online] Available at: /explore-the-data/temperature/ [Accessed 18 January. 2019].\n",
    "\n",
    "marine.ucsc.edu (2019). Long-Term Monitoring Surveys | MARINe. [online] Available at: /methods/longterm-methods [Accessed 18 January. 2019]."
   ]
  },
  {
   "cell_type": "markdown",
   "metadata": {},
   "source": [
    "#### Analyzing first dataset: Marine Site Temperatures\n",
    "Imports, creates, and visualizes dataframe from given csv file. Used to plot the mean temperature for each year the data was collected. This varies dependent on the location."
   ]
  },
  {
   "cell_type": "code",
   "execution_count": 7,
   "metadata": {},
   "outputs": [],
   "source": [
    "import pandas as pd\n",
    "import matplotlib.pyplot as plt\n",
    "import numpy as np"
   ]
  },
  {
   "cell_type": "code",
   "execution_count": 8,
   "metadata": {},
   "outputs": [],
   "source": [
    "#reads in temp file\n",
    "df = pd.read_csv(\"daily_temperature_means_PST.csv\")"
   ]
  },
  {
   "cell_type": "markdown",
   "metadata": {},
   "source": [
    "### Creates a new subset of the original data frame based on the location where the data was taken from."
   ]
  },
  {
   "cell_type": "code",
   "execution_count": 9,
   "metadata": {},
   "outputs": [],
   "source": [
    "#new df for one location\n",
    "temp = df[df['marine_site_name'] == \"Sage Rock\"]"
   ]
  },
  {
   "cell_type": "code",
   "execution_count": 10,
   "metadata": {},
   "outputs": [],
   "source": [
    "#list of unique years\n",
    "yearList = temp['year'].unique()"
   ]
  },
  {
   "cell_type": "code",
   "execution_count": 12,
   "metadata": {},
   "outputs": [
    {
     "data": {
      "text/plain": [
       "[<matplotlib.lines.Line2D at 0x125ada0d0>]"
      ]
     },
     "execution_count": 12,
     "metadata": {},
     "output_type": "execute_result"
    },
    {
     "data": {
      "image/png": "[encoded data removed]",
      "text/plain": [
       "<Figure size 432x288 with 1 Axes>"
      ]
     },
     "metadata": {
      "needs_background": "light"
     },
     "output_type": "display_data"
    }
   ],
   "source": [
    "meanList = []\n",
    "#loop to create graph data\n",
    "for x in yearList:\n",
    "    newdf = temp[temp['year'] == x]\n",
    "    tempMean = newdf['mean'].mean()\n",
    "    meanList.append(tempMean)\n",
    "plt.plot(yearList, meanList, marker = \"o\", color = \"m\")"
   ]
  },
  {
   "cell_type": "code",
   "execution_count": null,
   "metadata": {},
   "outputs": [],
   "source": []
  }
 ],
 "metadata": {
  "kernelspec": {
   "display_name": "Python 3",
   "language": "python",
   "name": "python3"
  },
  "language_info": {
   "codemirror_mode": {
    "name": "ipython",
    "version": 3
   },
   "file_extension": ".py",
   "mimetype": "text/x-python",
   "name": "python",
   "nbconvert_exporter": "python",
   "pygments_lexer": "ipython3",
   "version": "3.7.4"
  }
 },
 "nbformat": 4,
 "nbformat_minor": 2
}
